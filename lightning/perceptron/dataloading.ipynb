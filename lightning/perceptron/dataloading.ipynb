{
  "nbformat": 4,
  "nbformat_minor": 0,
  "metadata": {
    "colab": {
      "name": "dataloading.ipynb",
      "private_outputs": true,
      "provenance": [],
      "collapsed_sections": [],
      "authorship_tag": "ABX9TyNcL9gu6PdVHJuDLbNvbf4d",
      "include_colab_link": true
    },
    "kernelspec": {
      "name": "python3",
      "display_name": "Python 3"
    },
    "accelerator": "GPU"
  },
  "cells": [
    {
      "cell_type": "markdown",
      "metadata": {
        "id": "view-in-github",
        "colab_type": "text"
      },
      "source": [
        "<a href=\"https://colab.research.google.com/github/charlesfrye/AdventOfCode/blob/master/lightning/perceptron/dataloading.ipynb\" target=\"_parent\"><img src=\"https://colab.research.google.com/assets/colab-badge.svg\" alt=\"Open In Colab\"/></a>"
      ]
    },
    {
      "cell_type": "markdown",
      "metadata": {
        "id": "r3gqsU8hnF1O"
      },
      "source": [
        "\n",
        "# Learning About Dataloading"
      ]
    },
    {
      "cell_type": "markdown",
      "metadata": {
        "id": "9uD7_zP3rgux"
      },
      "source": [
        "## Installing and Importing Libraries"
      ]
    },
    {
      "cell_type": "code",
      "metadata": {
        "id": "Xu5Gebw6uvDF"
      },
      "source": [
        "%%capture\n",
        "!pip install pytorch-lightning wandb\n",
        "\n",
        "import matplotlib.pyplot as plt\n",
        "import pytorch_lightning as pl\n",
        "import torch\n",
        "from torch.utils.data import DataLoader\n",
        "from torchvision import transforms\n",
        "import torchvision.datasets\n",
        "\n",
        "mnist = torchvision.datasets.MNIST(\".\", download=True)"
      ],
      "execution_count": null,
      "outputs": []
    },
    {
      "cell_type": "markdown",
      "metadata": {
        "id": "wLPUE6GWrih3"
      },
      "source": [
        "## Producing a `DataLoader`"
      ]
    },
    {
      "cell_type": "code",
      "metadata": {
        "id": "gpjMWy7578dp"
      },
      "source": [
        "class PerceptronDataModule(pl.LightningDataModule):\n",
        "\n",
        "  def __init__(self, batch_size=64):\n",
        "    super().__init__()  # ⚡: we inherit from LightningDataModule\n",
        "    self.batch_size = batch_size\n",
        "\n",
        "  def prepare_data(self): # ⚡: how do we set up the data?\n",
        "    # download the data from the internet\n",
        "    mnist = torchvision.datasets.MNIST(\".\", train=True, download=True)\n",
        "\n",
        "    # set up shapes and types\n",
        "    self.digits, self.is_5 = mnist.data.float(), (mnist.targets == 5)[:, None].float()\n",
        "    self.dataset = torch.utils.data.TensorDataset(self.digits, self.is_5)\n",
        "\n",
        "  def train_dataloader(self):  # ⚡: how do we go from dataset to dataloader?\n",
        "    \"\"\"The DataLoaders returned by a DataModule produce data for a model.\n",
        "    \n",
        "    This DataLoader is used during training.\"\"\"\n",
        "    return DataLoader(self.dataset, batch_size=self.batch_size)"
      ],
      "execution_count": null,
      "outputs": []
    },
    {
      "cell_type": "code",
      "metadata": {
        "id": "DaYToi8Z5WlQ"
      },
      "source": [
        "dmodule = PerceptronDataModule()\n",
        "dmodule.prepare_data()"
      ],
      "execution_count": null,
      "outputs": []
    },
    {
      "cell_type": "markdown",
      "metadata": {
        "id": "Rs4iTMtBrsfB"
      },
      "source": [
        "## Examining the Data"
      ]
    },
    {
      "cell_type": "markdown",
      "metadata": {
        "id": "HROH0icGnEqt"
      },
      "source": [
        "The raw data is attached to the `DataModule` as arrays:"
      ]
    },
    {
      "cell_type": "code",
      "metadata": {
        "id": "ATyAXjsFniSR"
      },
      "source": [
        "dmodule.digits[0], dmodule.is_5[0] # return first entry of digits"
      ],
      "execution_count": null,
      "outputs": []
    },
    {
      "cell_type": "code",
      "metadata": {
        "id": "pnaWSBVLoPH_"
      },
      "source": [
        "def show(im):\n",
        "  plt.imshow(im, cmap=\"Greys\"); plt.axis(\"off\");\n",
        "\n",
        "show(dmodule.digits[0]); print(dmodule.is_5[0])  # try idx!=0"
      ],
      "execution_count": null,
      "outputs": []
    },
    {
      "cell_type": "markdown",
      "metadata": {
        "id": "9zL8l9nQsCz7"
      },
      "source": [
        "But the model doesn't see the data this way.\n",
        "\n",
        "In order to orchestrate the loading and processing of the data effectively,\n",
        "PyTorch/Lightning uses `DataLoader`s:\n"
      ]
    },
    {
      "cell_type": "code",
      "metadata": {
        "id": "Vx-j6fDysuoo"
      },
      "source": [
        "trainloader = dmodule.train_dataloader()"
      ],
      "execution_count": null,
      "outputs": []
    },
    {
      "cell_type": "markdown",
      "metadata": {
        "id": "CP95ysQFsuNb"
      },
      "source": [
        "To use `DataLoader`s, we iterate over them.\n",
        "Each iteration produces a \"batch\".\n",
        "\n",
        "```python\n",
        "for batch in dataloader:\n",
        "  x, y = batch\n",
        "  # do stuff to x and y with Model\n",
        "```"
      ]
    },
    {
      "cell_type": "markdown",
      "metadata": {
        "id": "xKs0-32-m3Uo"
      },
      "source": [
        "#### Q Use the `.shape` method to determine the shape and the `dtype` method to determine the type of the tensors in the `batch`."
      ]
    },
    {
      "cell_type": "code",
      "metadata": {
        "id": "-sOEtR7qnDw1"
      },
      "source": [
        "for batch in trainloader:\n",
        "  digit, target = batch\n",
        "  print(\"\") # YOUR CODE HERE\n",
        "  break # only iterate once\n",
        "\n",
        "show(digit[0])"
      ],
      "execution_count": null,
      "outputs": []
    }
  ]
}